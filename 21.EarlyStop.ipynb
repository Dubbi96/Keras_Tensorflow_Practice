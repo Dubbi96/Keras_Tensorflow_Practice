{
 "cells": [
  {
   "cell_type": "code",
   "execution_count": 1,
   "metadata": {},
   "outputs": [],
   "source": [
    "import tensorflow as tf\n",
    "import numpy as np\n",
    "import pandas as pd\n",
    "from tensorflow.keras.layers import Dense\n",
    "from tensorflow.keras import Sequential\n",
    "from tensorflow.keras.optimizers import Adam\n",
    "import matplotlib.pyplot as plt"
   ]
  },
  {
   "cell_type": "markdown",
   "metadata": {},
   "source": [
    "# Tensor"
   ]
  },
  {
   "cell_type": "code",
   "execution_count": 2,
   "metadata": {},
   "outputs": [
    {
     "name": "stdout",
     "output_type": "stream",
     "text": [
      "WARNING:tensorflow:\n",
      "The TensorFlow contrib module will not be included in TensorFlow 2.0.\n",
      "For more information, please see:\n",
      "  * https://github.com/tensorflow/community/blob/master/rfcs/20180907-contrib-sunset.md\n",
      "  * https://github.com/tensorflow/addons\n",
      "  * https://github.com/tensorflow/io (for I/O related ops)\n",
      "If you depend on functionality not listed there, please file an issue.\n",
      "\n"
     ]
    }
   ],
   "source": [
    "x = tf.placeholder(tf.float32)\n",
    "y = tf.constant([1,2,3], tf.float32)\n",
    "#w = tf.Variable(10.0)\n",
    "#b = tf.Variable(10.0)\n",
    "w = tf.get_variable('w1',shape=[1],\n",
    "                   initializer = tf.contrib.layers.xavier_initializer())\n",
    "b = tf.get_variable('b1',shape=[1],\n",
    "                   initializer = tf.contrib.layers.xavier_initializer())\n",
    "#xavier. he algrithm(초기화 알고리즘)"
   ]
  },
  {
   "cell_type": "code",
   "execution_count": 7,
   "metadata": {},
   "outputs": [],
   "source": [
    "hx = w*x +b\n",
    "cost = tf.reduce_mean(tf.square(hx-y))\n",
    "optimizer = tf.train.AdamOptimizer(0.1) #learning rate\n",
    "train = optimizer.minimize(cost)\n",
    "sess = tf.Session()\n",
    "init = tf.global_variables_initializer()\n",
    "sess.run(init)"
   ]
  },
  {
   "cell_type": "code",
   "execution_count": 5,
   "metadata": {},
   "outputs": [],
   "source": [
    "hist_loss =[]\n",
    "patience = 16  #다음 값에서 몇번째일지를 확인\n",
    "min_delta = 0.001  #이전 데이터와의 값차이\n",
    "pcnt = 0"
   ]
  },
  {
   "cell_type": "code",
   "execution_count": 8,
   "metadata": {
    "collapsed": true,
    "jupyter": {
     "outputs_hidden": true
    }
   },
   "outputs": [
    {
     "name": "stdout",
     "output_type": "stream",
     "text": [
      "0 0.08323098\n",
      "1 0.115994334\n",
      "2 0.13249661\n",
      "3 0.102807105\n",
      "4 0.06824591\n",
      "5 0.055248592\n",
      "6 0.06196421\n",
      "7 0.0686546\n",
      "8 0.062087968\n",
      "9 0.04565272\n",
      "10 0.030544167\n",
      "11 0.024577165\n",
      "12 0.026705721\n",
      "13 0.029466895\n",
      "14 0.026772121\n",
      "15 0.018910673\n",
      "16 0.01079829\n",
      "17 0.00695923\n",
      "18 0.007835443\n",
      "19 0.009988825\n",
      "20 0.009716085\n",
      "21 0.006391306\n",
      "22 0.0024406514\n",
      "23 0.0006440255\n",
      "24 0.0015826927\n",
      "25 0.0034031656\n",
      "26 0.0038705387\n",
      "27 0.00250418\n",
      "28 0.00072089623\n",
      "29 0.0001757904\n",
      "30 0.0011330293\n",
      "31 0.0023958595\n",
      "32 0.0026850428\n",
      "33 0.001910184\n",
      "34 0.0010616753\n",
      "35 0.0010393807\n",
      "36 0.0017469848\n",
      "37 0.0023356907\n",
      "38 0.002199624\n",
      "39 0.0015731953\n",
      "40 0.001151783\n",
      "41 0.0012802554\n",
      "42 0.0016371602\n",
      "43 0.0016898819\n",
      "44 0.0013166397\n",
      "45 0.00088020694\n",
      "46 0.00074985524\n",
      "47 0.0008874947\n",
      "48 0.00095762865\n",
      "49 0.0007624019\n",
      "50 0.00045141007\n",
      "51 0.00029374516\n",
      "52 0.0003437725\n",
      "53 0.00041155439\n",
      "54 0.0003297209\n",
      "55 0.0001518757\n",
      "56 5.1561863e-05\n",
      "early stopping...\n"
     ]
    }
   ],
   "source": [
    "for i in range(300):\n",
    "    sess.run(train,{x:[1,2,3]}) #벼림 연산 # w = w.assign(w-0.1*g)\n",
    "    c = sess.run(cost,{x:[1,2,3]}) \n",
    "    hist_loss.append( c )\n",
    "    print(i, c)\n",
    "    if i > 0 :\n",
    "        if hist_loss[i-1]-hist_loss[i] > min_delta:\n",
    "            pcnt = 0\n",
    "        else:\n",
    "            pcnt+= 1\n",
    "        if pcnt > patience:\n",
    "            print ('early stopping...')\n",
    "            break"
   ]
  },
  {
   "cell_type": "code",
   "execution_count": 20,
   "metadata": {},
   "outputs": [],
   "source": [
    "sess.run(w)\n",
    "sess.run(b)\n",
    "sess.run(hx,{x:4})\n",
    "sess.run(hx,{x:[6,7]})"
   ]
  },
  {
   "cell_type": "markdown",
   "metadata": {},
   "source": [
    "# Keras"
   ]
  },
  {
   "cell_type": "code",
   "execution_count": 9,
   "metadata": {},
   "outputs": [],
   "source": [
    "from tensorflow.keras.callbacks import EarlyStopping #Early Stopping 사용시 import"
   ]
  },
  {
   "cell_type": "code",
   "execution_count": 14,
   "metadata": {},
   "outputs": [
    {
     "name": "stdout",
     "output_type": "stream",
     "text": [
      "Train on 3 samples\n",
      "Epoch 1/1000\n",
      "3/3 [==============================] - 0s 25ms/sample - loss: 10.6703\n",
      "Epoch 2/1000\n",
      "3/3 [==============================] - 0s 0s/sample - loss: 8.7508\n",
      "Epoch 3/1000\n",
      "3/3 [==============================] - 0s 0s/sample - loss: 7.0310\n",
      "Epoch 4/1000\n",
      "3/3 [==============================] - 0s 334us/sample - loss: 5.5133\n",
      "Epoch 5/1000\n",
      "3/3 [==============================] - 0s 333us/sample - loss: 4.1984\n",
      "Epoch 6/1000\n",
      "3/3 [==============================] - 0s 333us/sample - loss: 3.0849\n",
      "Epoch 7/1000\n",
      "3/3 [==============================] - 0s 667us/sample - loss: 2.1688\n",
      "Epoch 8/1000\n",
      "3/3 [==============================] - 0s 333us/sample - loss: 1.4429\n",
      "Epoch 9/1000\n",
      "3/3 [==============================] - 0s 333us/sample - loss: 0.8965\n",
      "Epoch 10/1000\n",
      "3/3 [==============================] - 0s 333us/sample - loss: 0.5153\n",
      "Epoch 11/1000\n",
      "3/3 [==============================] - 0s 333us/sample - loss: 0.2809\n",
      "Epoch 12/1000\n",
      "3/3 [==============================] - 0s 333us/sample - loss: 0.1713\n",
      "Epoch 13/1000\n",
      "3/3 [==============================] - 0s 763us/sample - loss: 0.1618\n",
      "Epoch 14/1000\n",
      "3/3 [==============================] - 0s 334us/sample - loss: 0.2260\n",
      "Epoch 15/1000\n",
      "3/3 [==============================] - 0s 337us/sample - loss: 0.3372\n",
      "Epoch 16/1000\n",
      "3/3 [==============================] - 0s 333us/sample - loss: 0.4705\n",
      "Epoch 17/1000\n",
      "3/3 [==============================] - 0s 667us/sample - loss: 0.6042\n",
      "Epoch 18/1000\n",
      "3/3 [==============================] - 0s 333us/sample - loss: 0.7208\n",
      "Epoch 19/1000\n",
      "3/3 [==============================] - 0s 333us/sample - loss: 0.8084\n",
      "Epoch 20/1000\n",
      "3/3 [==============================] - 0s 0s/sample - loss: 0.8601\n",
      "Epoch 21/1000\n",
      "3/3 [==============================] - 0s 333us/sample - loss: 0.8738\n",
      "Epoch 22/1000\n",
      "3/3 [==============================] - 0s 333us/sample - loss: 0.8518\n",
      "Epoch 23/1000\n",
      "3/3 [==============================] - 0s 334us/sample - loss: 0.7991\n",
      "Epoch 24/1000\n",
      "3/3 [==============================] - 0s 387us/sample - loss: 0.7229\n",
      "Epoch 25/1000\n",
      "3/3 [==============================] - 0s 667us/sample - loss: 0.6314\n",
      "Epoch 26/1000\n",
      "3/3 [==============================] - 0s 669us/sample - loss: 0.5329\n",
      "Epoch 27/1000\n",
      "3/3 [==============================] - 0s 326us/sample - loss: 0.4351\n",
      "Epoch 28/1000\n",
      "3/3 [==============================] - 0s 333us/sample - loss: 0.3445\n",
      "Epoch 29/1000\n",
      "3/3 [==============================] - 0s 666us/sample - loss: 0.2662\n"
     ]
    }
   ],
   "source": [
    "x = [1,2,3]\n",
    "y = [1,2,3]\n",
    "IO = Dense( units=1, input_dim=1)\n",
    "model = Sequential( [IO])\n",
    "model.compile( loss='mean_squared_error',optimizer=Adam(0.1))\n",
    "early = EarlyStopping(monitor='loss',min_delta = 0.001, patience =16)\n",
    "h = model.fit( x,y, epochs=1000,callbacks =[early])"
   ]
  },
  {
   "cell_type": "code",
   "execution_count": null,
   "metadata": {},
   "outputs": [],
   "source": []
  }
 ],
 "metadata": {
  "kernelspec": {
   "display_name": "Python 3",
   "language": "python",
   "name": "python3"
  },
  "language_info": {
   "codemirror_mode": {
    "name": "ipython",
    "version": 3
   },
   "file_extension": ".py",
   "mimetype": "text/x-python",
   "name": "python",
   "nbconvert_exporter": "python",
   "pygments_lexer": "ipython3",
   "version": "3.7.6"
  }
 },
 "nbformat": 4,
 "nbformat_minor": 4
}
