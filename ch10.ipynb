{
 "cells": [
  {
   "cell_type": "markdown",
   "metadata": {
    "colab_type": "text",
    "id": "zoMhhsqC4HdD"
   },
   "source": [
    "ThoraricSurgery.csv\n",
    "- 폴란드 브로츠와프 의과대학에서 2013년 공개한 폐암 수술 환자의  \n",
    " 수술 전 진단 데이터와 수술 후 생존 결과를 기록한 실제 의료 기록 데이터\n",
    " \n",
    " \n",
    " \n",
    "- 1~17 : 종양의 유형, 폐활량, 호흡관란여부, 고통정도, 기침, 흡연, 천식 여부 등\n",
    "- 18: 수술 후 생존 결과(1: 생존, 0: 사망)"
   ]
  },
  {
   "cell_type": "code",
   "execution_count": 1,
   "metadata": {
    "colab": {
     "base_uri": "https://localhost:8080/",
     "height": 143
    },
    "colab_type": "code",
    "id": "iUs4y4R64R5M",
    "outputId": "c19520a7-e13d-47f6-e8aa-3cfba5870478"
   },
   "outputs": [
    {
     "name": "stdout",
     "output_type": "stream",
     "text": [
      "Cloning into 'deeplearning_class'...\n",
      "remote: Enumerating objects: 300, done.\u001b[K\n",
      "remote: Counting objects: 100% (300/300), done.\u001b[K\n",
      "remote: Compressing objects: 100% (289/289), done.\u001b[K\n",
      "remote: Total 300 (delta 13), reused 293 (delta 9), pack-reused 0\u001b[K\n",
      "Receiving objects: 100% (300/300), 2.19 MiB | 2.05 MiB/s, done.\n",
      "Resolving deltas: 100% (13/13), done.\n"
     ]
    }
   ],
   "source": [
    "!git clone https://github.com/zzhining/deeplearning_class.git"
   ]
  },
  {
   "cell_type": "code",
   "execution_count": 3,
   "metadata": {
    "colab": {},
    "colab_type": "code",
    "id": "WwbUyq7w4HdD"
   },
   "outputs": [],
   "source": [
    "# 딥러닝을 구동하는 데 필요한 케라스 함수를 불러옵니다.\n",
    "from tensorflow.keras.models import Sequential\n",
    "from tensorflow.keras.layers import Dense\n",
    "\n",
    "# 필요한 라이브러리를 불러옵니다.\n",
    "import numpy as np\n",
    "import tensorflow as tf\n",
    "import matplotlib.pyplot as plt\n",
    "\n",
    "# 실행할 때마다 같은 결과를 출력하기 위해 설정하는 부분입니다.\n",
    "np.random.seed(3)\n",
    "tf.random.set_seed(3)"
   ]
  },
  {
   "cell_type": "markdown",
   "metadata": {
    "colab_type": "text",
    "id": "tzYCt94o4HdG"
   },
   "source": [
    "## 1.  데이터 읽어오기"
   ]
  },
  {
   "cell_type": "code",
   "execution_count": 3,
   "metadata": {
    "colab": {
     "base_uri": "https://localhost:8080/",
     "height": 143
    },
    "colab_type": "code",
    "id": "n84BWNae4HdG",
    "outputId": "8fd62396-10a0-42c6-9050-4bf10b0010e6"
   },
   "outputs": [
    {
     "data": {
      "text/plain": [
       "array([[293.  ,   1.  ,   3.8 , ...,   0.  ,  62.  ,   0.  ],\n",
       "       [  1.  ,   2.  ,   2.88, ...,   0.  ,  60.  ,   0.  ],\n",
       "       [  8.  ,   2.  ,   3.19, ...,   0.  ,  66.  ,   1.  ],\n",
       "       ...,\n",
       "       [406.  ,   6.  ,   5.36, ...,   0.  ,  62.  ,   0.  ],\n",
       "       [ 25.  ,   8.  ,   4.32, ...,   0.  ,  58.  ,   1.  ],\n",
       "       [447.  ,   8.  ,   5.2 , ...,   0.  ,  49.  ,   0.  ]])"
      ]
     },
     "execution_count": 3,
     "metadata": {
      "tags": []
     },
     "output_type": "execute_result"
    }
   ],
   "source": [
    "# 준비된 수술 환자 데이터를 불러들입니다.\n",
    "Data_set = np.loadtxt(\"/content/deeplearning_class/dataset/ThoraricSurgery.csv\", delimiter=\",\")\n",
    "Data_set"
   ]
  },
  {
   "cell_type": "code",
   "execution_count": 4,
   "metadata": {
    "colab": {},
    "colab_type": "code",
    "id": "6WaeTUL94HdI"
   },
   "outputs": [],
   "source": [
    "# 데이터프레임으로 읽어오기\n",
    "\n",
    "# import pandas as pd\n",
    "# Data_set = pd.read_csv(\"../dataset/ThoraricSurgery.csv\", header = None)\n",
    "# dataArray = Data_set.values\n",
    "# X = dataArray[:,0:17].astype(float)\n",
    "# Y = dataArray[:,17].astype(float)"
   ]
  },
  {
   "cell_type": "markdown",
   "metadata": {
    "colab_type": "text",
    "id": "lba0Y_sb4HdK"
   },
   "source": [
    "## 2.  데이터 전처리"
   ]
  },
  {
   "cell_type": "code",
   "execution_count": 5,
   "metadata": {
    "colab": {
     "base_uri": "https://localhost:8080/",
     "height": 143
    },
    "colab_type": "code",
    "id": "wWk4gMA94HdK",
    "outputId": "32bc6db2-0bd2-4e30-c28a-612ca2322328"
   },
   "outputs": [
    {
     "data": {
      "text/plain": [
       "array([[293.  ,   1.  ,   3.8 , ...,   1.  ,   0.  ,  62.  ],\n",
       "       [  1.  ,   2.  ,   2.88, ...,   1.  ,   0.  ,  60.  ],\n",
       "       [  8.  ,   2.  ,   3.19, ...,   1.  ,   0.  ,  66.  ],\n",
       "       ...,\n",
       "       [406.  ,   6.  ,   5.36, ...,   0.  ,   0.  ,  62.  ],\n",
       "       [ 25.  ,   8.  ,   4.32, ...,   0.  ,   0.  ,  58.  ],\n",
       "       [447.  ,   8.  ,   5.2 , ...,   0.  ,   0.  ,  49.  ]])"
      ]
     },
     "execution_count": 5,
     "metadata": {
      "tags": []
     },
     "output_type": "execute_result"
    }
   ],
   "source": [
    "# 환자의 기록과 수술 결과를 X와 Y로 구분하여 저장합니다.\n",
    "X = Data_set[:,0:17]\n",
    "Y = Data_set[:,17]\n",
    "X"
   ]
  },
  {
   "cell_type": "markdown",
   "metadata": {
    "colab_type": "text",
    "id": "NGiicHq44HdM"
   },
   "source": [
    "## 3. 모델 설계"
   ]
  },
  {
   "cell_type": "code",
   "execution_count": 6,
   "metadata": {
    "colab": {},
    "colab_type": "code",
    "id": "6wGlAxqN4HdM"
   },
   "outputs": [],
   "source": [
    "# 딥러닝 구조를 결정합니다(모델을 설정하고 실행하는 부분입니다).\n",
    "model = Sequential()\n",
    "\n",
    "# 입력데이터 17개의 값을 받아 은닉층 30개 노드로 보낸다\n",
    "model.add(Dense(30, input_dim=17, activation='relu'))\n",
    "model.add(Dense(1, activation='sigmoid'))"
   ]
  },
  {
   "cell_type": "markdown",
   "metadata": {
    "colab_type": "text",
    "id": "AdscnvdR4HdO"
   },
   "source": [
    "## 4. 모델 컴파일"
   ]
  },
  {
   "cell_type": "code",
   "execution_count": 7,
   "metadata": {
    "colab": {},
    "colab_type": "code",
    "id": "Tbei9Zrt4HdO"
   },
   "outputs": [],
   "source": [
    "# 딥러닝을 실행합니다.\n",
    "model.compile(loss='mean_squared_error', optimizer='adam', metrics=['accuracy'])"
   ]
  },
  {
   "cell_type": "markdown",
   "metadata": {
    "colab_type": "text",
    "id": "yszpXiGu4HdQ"
   },
   "source": [
    "## 5. 학습"
   ]
  },
  {
   "cell_type": "code",
   "execution_count": 8,
   "metadata": {
    "colab": {
     "base_uri": "https://localhost:8080/",
     "height": 1000
    },
    "colab_type": "code",
    "collapsed": true,
    "id": "Srq6xr5D4HdR",
    "jupyter": {
     "outputs_hidden": true
    },
    "outputId": "c869176e-7a45-441a-bc92-49fd1cd6ba62"
   },
   "outputs": [
    {
     "name": "stdout",
     "output_type": "stream",
     "text": [
      "Epoch 1/100\n",
      "47/47 [==============================] - 0s 1ms/step - loss: 0.1485 - accuracy: 0.8426\n",
      "Epoch 2/100\n",
      "47/47 [==============================] - 0s 1ms/step - loss: 0.1402 - accuracy: 0.8511\n",
      "Epoch 3/100\n",
      "47/47 [==============================] - 0s 1ms/step - loss: 0.1433 - accuracy: 0.8489\n",
      "Epoch 4/100\n",
      "47/47 [==============================] - 0s 1ms/step - loss: 0.1396 - accuracy: 0.8511\n",
      "Epoch 5/100\n",
      "47/47 [==============================] - 0s 1ms/step - loss: 0.1386 - accuracy: 0.8468\n",
      "Epoch 6/100\n",
      "47/47 [==============================] - 0s 1ms/step - loss: 0.1405 - accuracy: 0.8511\n",
      "Epoch 7/100\n",
      "47/47 [==============================] - 0s 1ms/step - loss: 0.1337 - accuracy: 0.8489\n",
      "Epoch 8/100\n",
      "47/47 [==============================] - 0s 1ms/step - loss: 0.1383 - accuracy: 0.8511\n",
      "Epoch 9/100\n",
      "47/47 [==============================] - 0s 1ms/step - loss: 0.1377 - accuracy: 0.8511\n",
      "Epoch 10/100\n",
      "47/47 [==============================] - 0s 1ms/step - loss: 0.1327 - accuracy: 0.8489\n",
      "Epoch 11/100\n",
      "47/47 [==============================] - 0s 1ms/step - loss: 0.1349 - accuracy: 0.8511\n",
      "Epoch 12/100\n",
      "47/47 [==============================] - 0s 1ms/step - loss: 0.1351 - accuracy: 0.8511\n",
      "Epoch 13/100\n",
      "47/47 [==============================] - 0s 979us/step - loss: 0.1344 - accuracy: 0.8511\n",
      "Epoch 14/100\n",
      "47/47 [==============================] - 0s 1ms/step - loss: 0.1355 - accuracy: 0.8511\n",
      "Epoch 15/100\n",
      "47/47 [==============================] - 0s 978us/step - loss: 0.1342 - accuracy: 0.8383\n",
      "Epoch 16/100\n",
      "47/47 [==============================] - 0s 1ms/step - loss: 0.1449 - accuracy: 0.8489\n",
      "Epoch 17/100\n",
      "47/47 [==============================] - 0s 988us/step - loss: 0.1430 - accuracy: 0.8511\n",
      "Epoch 18/100\n",
      "47/47 [==============================] - 0s 1ms/step - loss: 0.1420 - accuracy: 0.8511\n",
      "Epoch 19/100\n",
      "47/47 [==============================] - 0s 1ms/step - loss: 0.1413 - accuracy: 0.8511\n",
      "Epoch 20/100\n",
      "47/47 [==============================] - 0s 1ms/step - loss: 0.1397 - accuracy: 0.8511\n",
      "Epoch 21/100\n",
      "47/47 [==============================] - 0s 1ms/step - loss: 0.1368 - accuracy: 0.8511\n",
      "Epoch 22/100\n",
      "47/47 [==============================] - 0s 1ms/step - loss: 0.1333 - accuracy: 0.8489\n",
      "Epoch 23/100\n",
      "47/47 [==============================] - 0s 1ms/step - loss: 0.1295 - accuracy: 0.8511\n",
      "Epoch 24/100\n",
      "47/47 [==============================] - 0s 1ms/step - loss: 0.1363 - accuracy: 0.8447\n",
      "Epoch 25/100\n",
      "47/47 [==============================] - 0s 1ms/step - loss: 0.1422 - accuracy: 0.8489\n",
      "Epoch 26/100\n",
      "47/47 [==============================] - 0s 1ms/step - loss: 0.1393 - accuracy: 0.8511\n",
      "Epoch 27/100\n",
      "47/47 [==============================] - 0s 1ms/step - loss: 0.1374 - accuracy: 0.8468\n",
      "Epoch 28/100\n",
      "47/47 [==============================] - 0s 2ms/step - loss: 0.1366 - accuracy: 0.8511\n",
      "Epoch 29/100\n",
      "47/47 [==============================] - 0s 1ms/step - loss: 0.1298 - accuracy: 0.8489\n",
      "Epoch 30/100\n",
      "47/47 [==============================] - 0s 1ms/step - loss: 0.1262 - accuracy: 0.8532\n",
      "Epoch 31/100\n",
      "47/47 [==============================] - 0s 1ms/step - loss: 0.1445 - accuracy: 0.8511\n",
      "Epoch 32/100\n",
      "47/47 [==============================] - 0s 1ms/step - loss: 0.1405 - accuracy: 0.8511\n",
      "Epoch 33/100\n",
      "47/47 [==============================] - 0s 1ms/step - loss: 0.1380 - accuracy: 0.8489\n",
      "Epoch 34/100\n",
      "47/47 [==============================] - 0s 1ms/step - loss: 0.1283 - accuracy: 0.8532\n",
      "Epoch 35/100\n",
      "47/47 [==============================] - 0s 1ms/step - loss: 0.1419 - accuracy: 0.8511\n",
      "Epoch 36/100\n",
      "47/47 [==============================] - 0s 1ms/step - loss: 0.1402 - accuracy: 0.8489\n",
      "Epoch 37/100\n",
      "47/47 [==============================] - 0s 995us/step - loss: 0.1401 - accuracy: 0.8489\n",
      "Epoch 38/100\n",
      "47/47 [==============================] - 0s 987us/step - loss: 0.1380 - accuracy: 0.8511\n",
      "Epoch 39/100\n",
      "47/47 [==============================] - 0s 1ms/step - loss: 0.1370 - accuracy: 0.8511\n",
      "Epoch 40/100\n",
      "47/47 [==============================] - 0s 1ms/step - loss: 0.1299 - accuracy: 0.8532\n",
      "Epoch 41/100\n",
      "47/47 [==============================] - 0s 1ms/step - loss: 0.1295 - accuracy: 0.8574\n",
      "Epoch 42/100\n",
      "47/47 [==============================] - 0s 1ms/step - loss: 0.1422 - accuracy: 0.8468\n",
      "Epoch 43/100\n",
      "47/47 [==============================] - 0s 1ms/step - loss: 0.1333 - accuracy: 0.8511\n",
      "Epoch 44/100\n",
      "47/47 [==============================] - 0s 1ms/step - loss: 0.1310 - accuracy: 0.8553\n",
      "Epoch 45/100\n",
      "47/47 [==============================] - 0s 1ms/step - loss: 0.1286 - accuracy: 0.8532\n",
      "Epoch 46/100\n",
      "47/47 [==============================] - 0s 1ms/step - loss: 0.1281 - accuracy: 0.8532\n",
      "Epoch 47/100\n",
      "47/47 [==============================] - 0s 1ms/step - loss: 0.1312 - accuracy: 0.8489\n",
      "Epoch 48/100\n",
      "47/47 [==============================] - 0s 1ms/step - loss: 0.1277 - accuracy: 0.8511\n",
      "Epoch 49/100\n",
      "47/47 [==============================] - 0s 1ms/step - loss: 0.1282 - accuracy: 0.8553\n",
      "Epoch 50/100\n",
      "47/47 [==============================] - 0s 1ms/step - loss: 0.1284 - accuracy: 0.8532\n",
      "Epoch 51/100\n",
      "47/47 [==============================] - 0s 1ms/step - loss: 0.1245 - accuracy: 0.8532\n",
      "Epoch 52/100\n",
      "47/47 [==============================] - 0s 1ms/step - loss: 0.1268 - accuracy: 0.8532\n",
      "Epoch 53/100\n",
      "47/47 [==============================] - 0s 1ms/step - loss: 0.1359 - accuracy: 0.8532\n",
      "Epoch 54/100\n",
      "47/47 [==============================] - 0s 1ms/step - loss: 0.1271 - accuracy: 0.8596\n",
      "Epoch 55/100\n",
      "47/47 [==============================] - 0s 1ms/step - loss: 0.1249 - accuracy: 0.8532\n",
      "Epoch 56/100\n",
      "47/47 [==============================] - 0s 977us/step - loss: 0.1260 - accuracy: 0.8511\n",
      "Epoch 57/100\n",
      "47/47 [==============================] - 0s 969us/step - loss: 0.1240 - accuracy: 0.8511\n",
      "Epoch 58/100\n",
      "47/47 [==============================] - 0s 960us/step - loss: 0.1369 - accuracy: 0.8468\n",
      "Epoch 59/100\n",
      "47/47 [==============================] - 0s 960us/step - loss: 0.1397 - accuracy: 0.8489\n",
      "Epoch 60/100\n",
      "47/47 [==============================] - 0s 1ms/step - loss: 0.1336 - accuracy: 0.8532\n",
      "Epoch 61/100\n",
      "47/47 [==============================] - 0s 1ms/step - loss: 0.1294 - accuracy: 0.8553\n",
      "Epoch 62/100\n",
      "47/47 [==============================] - 0s 1ms/step - loss: 0.1271 - accuracy: 0.8532\n",
      "Epoch 63/100\n",
      "47/47 [==============================] - 0s 1ms/step - loss: 0.1265 - accuracy: 0.8532\n",
      "Epoch 64/100\n",
      "47/47 [==============================] - 0s 1ms/step - loss: 0.1291 - accuracy: 0.8574\n",
      "Epoch 65/100\n",
      "47/47 [==============================] - 0s 1ms/step - loss: 0.1207 - accuracy: 0.8553\n",
      "Epoch 66/100\n",
      "47/47 [==============================] - 0s 1ms/step - loss: 0.1285 - accuracy: 0.8468\n",
      "Epoch 67/100\n",
      "47/47 [==============================] - 0s 979us/step - loss: 0.1219 - accuracy: 0.8553\n",
      "Epoch 68/100\n",
      "47/47 [==============================] - 0s 1ms/step - loss: 0.1302 - accuracy: 0.8596\n",
      "Epoch 69/100\n",
      "47/47 [==============================] - 0s 1ms/step - loss: 0.1331 - accuracy: 0.8532\n",
      "Epoch 70/100\n",
      "47/47 [==============================] - 0s 1ms/step - loss: 0.1234 - accuracy: 0.8574\n",
      "Epoch 71/100\n",
      "47/47 [==============================] - 0s 1ms/step - loss: 0.1257 - accuracy: 0.8404\n",
      "Epoch 72/100\n",
      "47/47 [==============================] - 0s 992us/step - loss: 0.1366 - accuracy: 0.8511\n",
      "Epoch 73/100\n",
      "47/47 [==============================] - 0s 1ms/step - loss: 0.1243 - accuracy: 0.8553\n",
      "Epoch 74/100\n",
      "47/47 [==============================] - 0s 964us/step - loss: 0.1190 - accuracy: 0.8532\n",
      "Epoch 75/100\n",
      "47/47 [==============================] - 0s 977us/step - loss: 0.1199 - accuracy: 0.8574\n",
      "Epoch 76/100\n",
      "47/47 [==============================] - 0s 999us/step - loss: 0.1264 - accuracy: 0.8532\n",
      "Epoch 77/100\n",
      "47/47 [==============================] - 0s 1ms/step - loss: 0.1297 - accuracy: 0.8532\n",
      "Epoch 78/100\n",
      "47/47 [==============================] - 0s 982us/step - loss: 0.1270 - accuracy: 0.8553\n",
      "Epoch 79/100\n",
      "47/47 [==============================] - 0s 997us/step - loss: 0.1225 - accuracy: 0.8553\n",
      "Epoch 80/100\n",
      "47/47 [==============================] - 0s 978us/step - loss: 0.1204 - accuracy: 0.8489\n",
      "Epoch 81/100\n",
      "47/47 [==============================] - 0s 1ms/step - loss: 0.1264 - accuracy: 0.8596\n",
      "Epoch 82/100\n",
      "47/47 [==============================] - 0s 936us/step - loss: 0.1254 - accuracy: 0.8553\n",
      "Epoch 83/100\n",
      "47/47 [==============================] - 0s 974us/step - loss: 0.1236 - accuracy: 0.8574\n",
      "Epoch 84/100\n",
      "47/47 [==============================] - 0s 953us/step - loss: 0.1294 - accuracy: 0.8468\n",
      "Epoch 85/100\n",
      "47/47 [==============================] - 0s 1ms/step - loss: 0.1360 - accuracy: 0.8532\n",
      "Epoch 86/100\n",
      "47/47 [==============================] - 0s 967us/step - loss: 0.1309 - accuracy: 0.8596\n",
      "Epoch 87/100\n",
      "47/47 [==============================] - 0s 949us/step - loss: 0.1196 - accuracy: 0.8617\n",
      "Epoch 88/100\n",
      "47/47 [==============================] - 0s 983us/step - loss: 0.1168 - accuracy: 0.8553\n",
      "Epoch 89/100\n",
      "47/47 [==============================] - 0s 984us/step - loss: 0.1239 - accuracy: 0.8511\n",
      "Epoch 90/100\n",
      "47/47 [==============================] - 0s 1ms/step - loss: 0.1257 - accuracy: 0.8553\n",
      "Epoch 91/100\n",
      "47/47 [==============================] - 0s 1ms/step - loss: 0.1217 - accuracy: 0.8532\n",
      "Epoch 92/100\n",
      "47/47 [==============================] - 0s 1ms/step - loss: 0.1332 - accuracy: 0.8553\n",
      "Epoch 93/100\n",
      "47/47 [==============================] - 0s 1ms/step - loss: 0.1179 - accuracy: 0.8596\n",
      "Epoch 94/100\n",
      "47/47 [==============================] - 0s 1ms/step - loss: 0.1225 - accuracy: 0.8532\n",
      "Epoch 95/100\n",
      "47/47 [==============================] - 0s 1ms/step - loss: 0.1213 - accuracy: 0.8596\n",
      "Epoch 96/100\n",
      "47/47 [==============================] - 0s 1ms/step - loss: 0.1310 - accuracy: 0.8532\n",
      "Epoch 97/100\n",
      "47/47 [==============================] - 0s 1ms/step - loss: 0.1237 - accuracy: 0.8638\n",
      "Epoch 98/100\n",
      "47/47 [==============================] - 0s 1ms/step - loss: 0.1313 - accuracy: 0.8489\n",
      "Epoch 99/100\n",
      "47/47 [==============================] - 0s 976us/step - loss: 0.1258 - accuracy: 0.8596\n",
      "Epoch 100/100\n",
      "47/47 [==============================] - 0s 1ms/step - loss: 0.1235 - accuracy: 0.8532\n"
     ]
    }
   ],
   "source": [
    "# epoch= 100: 샘플이 처음부터 끝까지 100번 재사용될 때까지 실행을 반복\n",
    "# batch_size = 10: 전체 470개 샘플을 10개씩 끊어서 집어넣기\n",
    "h = model.fit(X, Y, epochs=100, batch_size=10)"
   ]
  },
  {
   "cell_type": "code",
   "execution_count": 9,
   "metadata": {
    "colab": {
     "base_uri": "https://localhost:8080/",
     "height": 233
    },
    "colab_type": "code",
    "id": "W-0hVcEA4HdS",
    "outputId": "16cd1294-6b19-4e95-cae4-145c36c123f0"
   },
   "outputs": [
    {
     "name": "stdout",
     "output_type": "stream",
     "text": [
      "Model: \"sequential\"\n",
      "_________________________________________________________________\n",
      "Layer (type)                 Output Shape              Param #   \n",
      "=================================================================\n",
      "dense (Dense)                (None, 30)                540       \n",
      "_________________________________________________________________\n",
      "dense_1 (Dense)              (None, 1)                 31        \n",
      "=================================================================\n",
      "Total params: 571\n",
      "Trainable params: 571\n",
      "Non-trainable params: 0\n",
      "_________________________________________________________________\n"
     ]
    }
   ],
   "source": [
    "model.summary()"
   ]
  },
  {
   "cell_type": "code",
   "execution_count": 10,
   "metadata": {
    "colab": {
     "base_uri": "https://localhost:8080/",
     "height": 269
    },
    "colab_type": "code",
    "id": "yV1kY9yl4HdU",
    "outputId": "bd11e0ca-75e8-4b69-de9d-603d3d6c385c"
   },
   "outputs": [
    {
     "data": {
      "image/png": "[encoded data removed]",
      "text/plain": [
       "<Figure size 432x288 with 1 Axes>"
      ]
     },
     "metadata": {
      "needs_background": "light",
      "tags": []
     },
     "output_type": "display_data"
    }
   ],
   "source": [
    "plt.plot(h.history['loss'])\n",
    "plt.show()"
   ]
  },
  {
   "cell_type": "code",
   "execution_count": 12,
   "metadata": {
    "colab": {
     "base_uri": "https://localhost:8080/",
     "height": 35
    },
    "colab_type": "code",
    "id": "QoMJxZ0Z443v",
    "outputId": "0d238ad7-8c78-4e24-88d7-5fb5f80373ff"
   },
   "outputs": [
    {
     "data": {
      "text/plain": [
       "0.8531914949417114"
      ]
     },
     "execution_count": 12,
     "metadata": {
      "tags": []
     },
     "output_type": "execute_result"
    }
   ],
   "source": [
    "h.history['accuracy'][-1]"
   ]
  },
  {
   "cell_type": "code",
   "execution_count": null,
   "metadata": {
    "colab": {},
    "colab_type": "code",
    "id": "IaOyjJ1d5aIW"
   },
   "outputs": [],
   "source": []
  }
 ],
 "metadata": {
  "colab": {
   "collapsed_sections": [],
   "name": "ch10.ipynb",
   "provenance": [],
   "toc_visible": true
  },
  "kernelspec": {
   "display_name": "Python 3",
   "language": "python",
   "name": "python3"
  },
  "language_info": {
   "codemirror_mode": {
    "name": "ipython",
    "version": 3
   },
   "file_extension": ".py",
   "mimetype": "text/x-python",
   "name": "python",
   "nbconvert_exporter": "python",
   "pygments_lexer": "ipython3",
   "version": "3.7.6"
  },
  "toc": {
   "base_numbering": 1,
   "nav_menu": {},
   "number_sections": false,
   "sideBar": true,
   "skip_h1_title": false,
   "title_cell": "Table of Contents",
   "title_sidebar": "Contents",
   "toc_cell": false,
   "toc_position": {},
   "toc_section_display": true,
   "toc_window_display": false
  }
 },
 "nbformat": 4,
 "nbformat_minor": 4
}
