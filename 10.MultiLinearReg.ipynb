{
 "cells": [
  {
   "cell_type": "code",
   "execution_count": 1,
   "metadata": {},
   "outputs": [],
   "source": [
    "import tensorflow as tf\n",
    "import numpy as np\n",
    "import matplotlib.pyplot as plt\n",
    "import pandas as pd\n",
    "from tensorflow.keras.layers import Dense\n",
    "from tensorflow.keras import Sequential\n",
    "from tensorflow.keras.optimizers import Adam"
   ]
  },
  {
   "cell_type": "code",
   "execution_count": 5,
   "metadata": {},
   "outputs": [
    {
     "data": {
      "text/html": [
       "<div>\n",
       "<style scoped>\n",
       "    .dataframe tbody tr th:only-of-type {\n",
       "        vertical-align: middle;\n",
       "    }\n",
       "\n",
       "    .dataframe tbody tr th {\n",
       "        vertical-align: top;\n",
       "    }\n",
       "\n",
       "    .dataframe thead th {\n",
       "        text-align: right;\n",
       "    }\n",
       "</style>\n",
       "<table border=\"1\" class=\"dataframe\">\n",
       "  <thead>\n",
       "    <tr style=\"text-align: right;\">\n",
       "      <th></th>\n",
       "      <th>q1</th>\n",
       "      <th>q2</th>\n",
       "      <th>mid</th>\n",
       "      <th>score</th>\n",
       "    </tr>\n",
       "  </thead>\n",
       "  <tbody>\n",
       "    <tr>\n",
       "      <th>0</th>\n",
       "      <td>73</td>\n",
       "      <td>80</td>\n",
       "      <td>75</td>\n",
       "      <td>152</td>\n",
       "    </tr>\n",
       "    <tr>\n",
       "      <th>1</th>\n",
       "      <td>93</td>\n",
       "      <td>88</td>\n",
       "      <td>93</td>\n",
       "      <td>185</td>\n",
       "    </tr>\n",
       "    <tr>\n",
       "      <th>2</th>\n",
       "      <td>89</td>\n",
       "      <td>91</td>\n",
       "      <td>90</td>\n",
       "      <td>180</td>\n",
       "    </tr>\n",
       "    <tr>\n",
       "      <th>3</th>\n",
       "      <td>96</td>\n",
       "      <td>98</td>\n",
       "      <td>100</td>\n",
       "      <td>196</td>\n",
       "    </tr>\n",
       "    <tr>\n",
       "      <th>4</th>\n",
       "      <td>73</td>\n",
       "      <td>66</td>\n",
       "      <td>70</td>\n",
       "      <td>142</td>\n",
       "    </tr>\n",
       "  </tbody>\n",
       "</table>\n",
       "</div>"
      ],
      "text/plain": [
       "   q1  q2  mid  score\n",
       "0  73  80   75    152\n",
       "1  93  88   93    185\n",
       "2  89  91   90    180\n",
       "3  96  98  100    196\n",
       "4  73  66   70    142"
      ]
     },
     "execution_count": 5,
     "metadata": {},
     "output_type": "execute_result"
    }
   ],
   "source": [
    "df = pd.read_csv('./data/data/data-01.csv',header=None)\n",
    "df.columns = ['q1','q2','mid','score']\n",
    "df.head()"
   ]
  },
  {
   "cell_type": "code",
   "execution_count": 16,
   "metadata": {},
   "outputs": [],
   "source": [
    "xdata = df[['q1','q2','mid']]\n",
    "ydata = df[['score']]"
   ]
  },
  {
   "cell_type": "code",
   "execution_count": 19,
   "metadata": {},
   "outputs": [],
   "source": [
    "x = tf.placeholder(tf.float32 , shape = [None,3])\n",
    "y = tf.constant(ydata , tf.float32)\n",
    "\n",
    "w = tf.Variable(tf.random_uniform([3,1]))\n",
    "b = tf.Variable(tf.random_uniform([1]))\n",
    "\n",
    "hx = tf.matmul(x,w) + b\n",
    "cost = tf.reduce_mean( tf.square(hx-y))\n",
    "\n",
    "optimizer = tf.train.GradientDescentOptimizer(0.00001)\n",
    "train = optimizer.minimize(cost)\n",
    "sess = tf.Session()\n",
    "init = tf.global_variables_initializer() #############중요!!!!!!!!!!!!!!!!!!(variable값 초기화)\n",
    "sess.run(init)"
   ]
  },
  {
   "cell_type": "code",
   "execution_count": 46,
   "metadata": {
    "collapsed": true,
    "jupyter": {
     "outputs_hidden": true
    }
   },
   "outputs": [
    {
     "name": "stdout",
     "output_type": "stream",
     "text": [
      "0 6.148126\n",
      "1000 6.1461425\n",
      "2000 6.144825\n",
      "3000 6.1439185\n",
      "4000 6.143226\n",
      "5000 6.142704\n",
      "6000 6.142251\n",
      "7000 6.1418595\n",
      "8000 6.141503\n",
      "9000 6.141163\n",
      "10000 6.1408315\n",
      "11000 6.1405177\n",
      "12000 6.140199\n",
      "13000 6.139875\n",
      "14000 6.1395726\n",
      "15000 6.139261\n",
      "16000 6.13896\n",
      "17000 6.1386433\n",
      "18000 6.1383295\n",
      "19000 6.1380186\n",
      "20000 6.137719\n",
      "21000 6.1373982\n",
      "22000 6.1370945\n",
      "23000 6.136793\n",
      "24000 6.136479\n",
      "25000 6.1361656\n",
      "26000 6.135862\n",
      "27000 6.1355577\n",
      "28000 6.135247\n",
      "29000 6.134938\n",
      "30000 6.1346354\n",
      "31000 6.134336\n",
      "32000 6.1340413\n",
      "33000 6.133726\n",
      "34000 6.133419\n",
      "35000 6.1331134\n",
      "36000 6.132813\n",
      "37000 6.132503\n",
      "38000 6.1322093\n",
      "39000 6.1319017\n",
      "40000 6.1315923\n",
      "41000 6.131278\n",
      "42000 6.1309896\n",
      "43000 6.1306787\n",
      "44000 6.13038\n",
      "45000 6.1300697\n",
      "46000 6.1297817\n",
      "47000 6.1294756\n",
      "48000 6.1291656\n",
      "49000 6.1288557\n",
      "50000 6.1285534\n",
      "51000 6.128272\n",
      "52000 6.1279645\n",
      "53000 6.1276565\n",
      "54000 6.127356\n",
      "55000 6.1270714\n",
      "56000 6.1267614\n",
      "57000 6.1264734\n",
      "58000 6.126164\n",
      "59000 6.12586\n",
      "60000 6.1255565\n",
      "61000 6.1252675\n",
      "62000 6.1249633\n",
      "63000 6.1246767\n",
      "64000 6.1243773\n",
      "65000 6.1240797\n",
      "66000 6.123769\n",
      "67000 6.123482\n",
      "68000 6.123183\n",
      "69000 6.122894\n",
      "70000 6.1225877\n",
      "71000 6.1222844\n",
      "72000 6.1219783\n",
      "73000 6.1216946\n",
      "74000 6.1214004\n",
      "75000 6.121103\n",
      "76000 6.1208053\n",
      "77000 6.1205235\n",
      "78000 6.12022\n",
      "79000 6.119919\n",
      "80000 6.119625\n",
      "81000 6.119333\n",
      "82000 6.1190467\n",
      "83000 6.118742\n",
      "84000 6.1184387\n",
      "85000 6.1181583\n",
      "86000 6.117872\n",
      "87000 6.1175714\n",
      "88000 6.117285\n",
      "89000 6.1169868\n",
      "90000 6.116699\n",
      "91000 6.116411\n",
      "92000 6.116119\n",
      "93000 6.1158233\n",
      "94000 6.1155205\n",
      "95000 6.1152472\n",
      "96000 6.1149397\n",
      "97000 6.114653\n",
      "98000 6.114378\n",
      "99000 6.1140776\n"
     ]
    }
   ],
   "source": [
    "for i in range(100000):\n",
    "    sess.run(train,{x:xdata})\n",
    "    if i%1000 == 0 :\n",
    "        print(i,sess.run(cost,{x:xdata}))"
   ]
  },
  {
   "cell_type": "code",
   "execution_count": 47,
   "metadata": {},
   "outputs": [],
   "source": [
    "sess.run(w)\n",
    "\n",
    "sess.run(b)"
   ]
  },
  {
   "cell_type": "code",
   "execution_count": 47,
   "metadata": {},
   "outputs": [],
   "source": [
    "sess.run(hx, {x:[[73,80,75]]})"
   ]
  },
  {
   "cell_type": "code",
   "execution_count": null,
   "metadata": {},
   "outputs": [],
   "source": []
  }
 ],
 "metadata": {
  "kernelspec": {
   "display_name": "Python 3",
   "language": "python",
   "name": "python3"
  },
  "language_info": {
   "codemirror_mode": {
    "name": "ipython",
    "version": 3
   },
   "file_extension": ".py",
   "mimetype": "text/x-python",
   "name": "python",
   "nbconvert_exporter": "python",
   "pygments_lexer": "ipython3",
   "version": "3.7.6"
  }
 },
 "nbformat": 4,
 "nbformat_minor": 4
}
