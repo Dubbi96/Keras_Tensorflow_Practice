{
 "cells": [
  {
   "cell_type": "code",
   "execution_count": 17,
   "metadata": {},
   "outputs": [],
   "source": [
    "import tensorflow as tf\n",
    "import numpy as np\n",
    "import matplotlib.pyplot as plt\n",
    "import pandas as pd\n",
    "from tensorflow.keras.layers import Dense\n",
    "from tensorflow.keras import Sequential\n",
    "from tensorflow.keras.optimizers import Adam"
   ]
  },
  {
   "cell_type": "code",
   "execution_count": 42,
   "metadata": {},
   "outputs": [],
   "source": [
    "x1 = tf.constant([1,0,3,0,5],tf.float32) #공부시간\n",
    "x2 = tf.constant([0,2,3,4,5],tf.float32) #출석일수\n",
    "y = tf.constant([1,2,3,4,5],tf.float32) # 점수"
   ]
  },
  {
   "cell_type": "code",
   "execution_count": 43,
   "metadata": {},
   "outputs": [],
   "source": [
    "w1 = tf.Variable(tf.random_uniform([1]))\n",
    "w2 = tf.Variable(tf.random_uniform([1]))\n",
    "b = tf.Variable(tf.random_uniform([1]))"
   ]
  },
  {
   "cell_type": "code",
   "execution_count": 44,
   "metadata": {},
   "outputs": [],
   "source": [
    "hx = w1 * x1 + w2 * x2 + b\n",
    "cost = tf.reduce_mean( tf.square(hx-y))"
   ]
  },
  {
   "cell_type": "code",
   "execution_count": 47,
   "metadata": {},
   "outputs": [],
   "source": [
    "optimizer = tf.train.GradientDescentOptimizer(0.01)\n",
    "train = optimizer.minimize(cost)\n",
    "\n",
    "sess = tf.Session()\n",
    "\n",
    "init = tf.global_variables_initializer() #############중요!!!!!!!!!!!!!!!!!!(variable값 초기화)\n",
    "\n",
    "sess.run(init)"
   ]
  },
  {
   "cell_type": "code",
   "execution_count": 48,
   "metadata": {},
   "outputs": [
    {
     "name": "stdout",
     "output_type": "stream",
     "text": [
      "0 1.7606432\n",
      "1 1.5932667\n",
      "2 1.4617805\n",
      "3 1.3504503\n",
      "4 1.2519723\n",
      "5 1.1628115\n",
      "6 1.0811316\n",
      "7 1.0058701\n",
      "8 0.9363262\n",
      "9 0.8719773\n",
      "10 0.8123954\n",
      "11 0.75720906\n",
      "12 0.7060851\n",
      "13 0.65872014\n",
      "14 0.6148353\n",
      "15 0.57417303\n",
      "16 0.53649557\n",
      "17 0.50158274\n",
      "18 0.4692304\n",
      "19 0.4392499\n",
      "20 0.4114665\n",
      "21 0.38571808\n",
      "22 0.3618547\n",
      "23 0.33973747\n",
      "24 0.3192377\n",
      "25 0.30023608\n",
      "26 0.2826224\n",
      "27 0.2662943\n",
      "28 0.2511571\n",
      "29 0.23712313\n",
      "30 0.22411096\n",
      "31 0.2120455\n",
      "32 0.200857\n",
      "33 0.19048086\n",
      "34 0.18085727\n",
      "35 0.17193092\n",
      "36 0.16365038\n",
      "37 0.15596825\n",
      "38 0.14884046\n",
      "39 0.14222619\n",
      "40 0.13608775\n",
      "41 0.13039012\n",
      "42 0.12510093\n",
      "43 0.12019012\n",
      "44 0.11562997\n",
      "45 0.11139462\n",
      "46 0.10746034\n",
      "47 0.103804946\n",
      "48 0.10040802\n",
      "49 0.097250596\n",
      "50 0.09431513\n",
      "51 0.09158536\n",
      "52 0.089046165\n",
      "53 0.08668369\n",
      "54 0.08448492\n",
      "55 0.08243795\n",
      "56 0.0805316\n",
      "57 0.07875569\n",
      "58 0.07710068\n",
      "59 0.075557746\n",
      "60 0.07411868\n",
      "61 0.072775975\n",
      "62 0.07152264\n",
      "63 0.07035206\n",
      "64 0.06925837\n",
      "65 0.06823598\n",
      "66 0.06727966\n",
      "67 0.066384606\n",
      "68 0.06554649\n",
      "69 0.06476112\n",
      "70 0.06402476\n",
      "71 0.063333854\n",
      "72 0.06268515\n",
      "73 0.062075585\n",
      "74 0.061502438\n",
      "75 0.060963035\n",
      "76 0.060455002\n",
      "77 0.05997612\n",
      "78 0.059524335\n",
      "79 0.05909769\n",
      "80 0.058694445\n",
      "81 0.05831294\n",
      "82 0.05795165\n",
      "83 0.0576092\n",
      "84 0.057284247\n",
      "85 0.056975592\n",
      "86 0.056682058\n",
      "87 0.05640273\n",
      "88 0.056136496\n",
      "89 0.055882603\n",
      "90 0.055640113\n",
      "91 0.055408277\n",
      "92 0.05518641\n",
      "93 0.05497382\n",
      "94 0.054769933\n",
      "95 0.054574184\n",
      "96 0.05438599\n",
      "97 0.054204863\n",
      "98 0.05403039\n",
      "99 0.053862162\n"
     ]
    }
   ],
   "source": [
    "for i in range(100):\n",
    "    sess.run(train)\n",
    "    print(i,sess.run(cost))"
   ]
  },
  {
   "cell_type": "code",
   "execution_count": 51,
   "metadata": {},
   "outputs": [
    {
     "data": {
      "text/plain": [
       "[array([0.08101602], dtype=float32), array([0.7100751], dtype=float32)]"
      ]
     },
     "execution_count": 51,
     "metadata": {},
     "output_type": "execute_result"
    }
   ],
   "source": [
    "sess.run([w1,w2])"
   ]
  },
  {
   "cell_type": "code",
   "execution_count": null,
   "metadata": {},
   "outputs": [],
   "source": []
  }
 ],
 "metadata": {
  "kernelspec": {
   "display_name": "Python 3",
   "language": "python",
   "name": "python3"
  },
  "language_info": {
   "codemirror_mode": {
    "name": "ipython",
    "version": 3
   },
   "file_extension": ".py",
   "mimetype": "text/x-python",
   "name": "python",
   "nbconvert_exporter": "python",
   "pygments_lexer": "ipython3",
   "version": "3.7.6"
  }
 },
 "nbformat": 4,
 "nbformat_minor": 4
}
