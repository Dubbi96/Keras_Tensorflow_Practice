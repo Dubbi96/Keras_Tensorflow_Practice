{
 "cells": [
  {
   "cell_type": "code",
   "execution_count": 1,
   "metadata": {},
   "outputs": [],
   "source": [
    "import tensorflow as tf\n",
    "import numpy as np\n",
    "import pandas as pd\n",
    "from tensorflow.keras.layers import Dense\n",
    "from tensorflow.keras import Sequential\n",
    "from tensorflow.keras.optimizers import Adam\n",
    "from sklearn import datasets, model_selection\n",
    "# from tensorflow.keras.backend import one_hot\n",
    "from tensorflow.keras.utils import to_categorical\n",
    "import matplotlib.pyplot as plt"
   ]
  },
  {
   "cell_type": "code",
   "execution_count": 2,
   "metadata": {},
   "outputs": [],
   "source": [
    "xdata = np.array([[0,0],[0,1],[1,0],[1,1]],dtype = np.float32)\n",
    "ydata = np.array([[0],[1],[1],[0]],dtype = np.float32)"
   ]
  },
  {
   "cell_type": "code",
   "execution_count": 3,
   "metadata": {},
   "outputs": [],
   "source": [
    "x = tf.placeholder(tf.float32,[None,2])\n",
    "y = tf.constant(ydata,tf.float32)"
   ]
  },
  {
   "cell_type": "markdown",
   "metadata": {},
   "source": [
    "### 1번 layer"
   ]
  },
  {
   "cell_type": "code",
   "execution_count": 28,
   "metadata": {},
   "outputs": [],
   "source": [
    "w1 = tf.Variable(tf.random_uniform([2,2])) #weight 갯수 추가 (1번 layer)\n",
    "b1 = tf.Variable(tf.random_uniform([2])) # bias 갯수 추가 (2번 layer)\n",
    "z1 = tf.matmul(x,w1) + b1\n",
    "lay1 = tf.nn.sigmoid(z1)"
   ]
  },
  {
   "cell_type": "markdown",
   "metadata": {},
   "source": [
    "### 2번 layer"
   ]
  },
  {
   "cell_type": "code",
   "execution_count": 29,
   "metadata": {},
   "outputs": [],
   "source": [
    "w2 = tf.Variable(tf.random_uniform([2,1])) #weight 갯수 추가 (1번 layer)\n",
    "b2 = tf.Variable(tf.random_uniform([1])) # bias 갯수 추가 (2번 layer)\n",
    "z2 = tf.matmul(lay1,w2) + b2\n",
    "hx = tf.nn.sigmoid(z2)"
   ]
  },
  {
   "cell_type": "code",
   "execution_count": 30,
   "metadata": {},
   "outputs": [],
   "source": [
    "cost_i = tf.nn.sigmoid_cross_entropy_with_logits(logits = z2 , labels =y)\n",
    "cost = tf.reduce_mean(cost_i)"
   ]
  },
  {
   "cell_type": "code",
   "execution_count": 31,
   "metadata": {},
   "outputs": [],
   "source": [
    "optimizer = tf.train.AdamOptimizer(0.1)\n",
    "train = optimizer.minimize(cost)\n",
    "sess = tf.Session()\n",
    "init = tf.global_variables_initializer()\n",
    "sess.run(init)"
   ]
  },
  {
   "cell_type": "code",
   "execution_count": 32,
   "metadata": {
    "collapsed": true,
    "jupyter": {
     "outputs_hidden": true
    }
   },
   "outputs": [
    {
     "name": "stdout",
     "output_type": "stream",
     "text": [
      "0 0.7639393\n",
      "100 0.19789411\n",
      "200 0.019994777\n",
      "300 0.009617257\n",
      "400 0.0059412355\n",
      "500 0.0041215606\n",
      "600 0.003061551\n",
      "700 0.0023798188\n",
      "800 0.0019108889\n",
      "900 0.0015722049\n",
      "1000 0.0013183305\n",
      "1100 0.0011223772\n",
      "1200 0.00096750766\n",
      "1300 0.00084269396\n",
      "1400 0.00074043754\n",
      "1500 0.0006554829\n",
      "1600 0.0005840481\n",
      "1700 0.00052334927\n",
      "1800 0.00047129448\n",
      "1900 0.00042628957\n",
      "2000 0.0003870977\n",
      "2100 0.00035274366\n",
      "2200 0.00032245516\n",
      "2300 0.00029560848\n",
      "2400 0.00027169945\n",
      "2500 0.00025031215\n",
      "2600 0.00023110493\n",
      "2700 0.00021379112\n",
      "2800 0.00019813159\n",
      "2900 0.0001839247\n",
      "3000 0.00017099832\n"
     ]
    }
   ],
   "source": [
    "for i in range(3001):\n",
    "    sess.run(train,{x:xdata})\n",
    "    c = sess.run(cost,{x:xdata})\n",
    "    if i%100 == 0:\n",
    "        print(i,c)"
   ]
  },
  {
   "cell_type": "code",
   "execution_count": 33,
   "metadata": {},
   "outputs": [
    {
     "data": {
      "text/plain": [
       "array([[0.],\n",
       "       [1.],\n",
       "       [1.],\n",
       "       [0.]], dtype=float32)"
      ]
     },
     "execution_count": 33,
     "metadata": {},
     "output_type": "execute_result"
    }
   ],
   "source": [
    "h= sess.run(hx, {x:xdata})\n",
    "t = tf.cast(h > 0.5, tf.float32)\n",
    "sess.run(t)"
   ]
  },
  {
   "cell_type": "code",
   "execution_count": null,
   "metadata": {},
   "outputs": [],
   "source": []
  },
  {
   "cell_type": "code",
   "execution_count": null,
   "metadata": {},
   "outputs": [],
   "source": []
  }
 ],
 "metadata": {
  "kernelspec": {
   "display_name": "Python 3",
   "language": "python",
   "name": "python3"
  },
  "language_info": {
   "codemirror_mode": {
    "name": "ipython",
    "version": 3
   },
   "file_extension": ".py",
   "mimetype": "text/x-python",
   "name": "python",
   "nbconvert_exporter": "python",
   "pygments_lexer": "ipython3",
   "version": "3.7.6"
  }
 },
 "nbformat": 4,
 "nbformat_minor": 4
}
