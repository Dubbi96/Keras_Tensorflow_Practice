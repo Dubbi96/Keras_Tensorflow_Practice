{
 "cells": [
  {
   "cell_type": "code",
   "execution_count": 38,
   "metadata": {},
   "outputs": [],
   "source": [
    "import tensorflow as tf\n",
    "import numpy as np\n",
    "import matplotlib.pyplot as plt\n",
    "import pandas as pd\n",
    "from tensorflow.keras.layers import Dense\n",
    "from tensorflow.keras import Sequential\n",
    "from tensorflow.keras.optimizers import Adam\n",
    "from sklearn import datasets\n",
    "from sklearn import preprocessing\n",
    "import matplotlib.pyplot as plt"
   ]
  },
  {
   "cell_type": "code",
   "execution_count": 2,
   "metadata": {},
   "outputs": [],
   "source": [
    "data = [[828, 920, 1234567, 1020, 1111],\n",
    "\n",
    "            [824, 910, 2345612, 1090, 1234],\n",
    "\n",
    "            [880, 900, 3456123, 1010, 1000],\n",
    "\n",
    "            [870, 990, 2312123, 1001, 1122],\n",
    "\n",
    "            [860, 980, 3223123, 1008, 1133],\n",
    "\n",
    "            [850, 970, 2432123, 1100, 1221]]\n",
    "\n",
    "data = np.float32(data)"
   ]
  },
  {
   "cell_type": "code",
   "execution_count": 3,
   "metadata": {},
   "outputs": [
    {
     "data": {
      "text/plain": [
       "array([[8.280000e+02, 9.200000e+02, 1.234567e+06, 1.020000e+03,\n",
       "        1.111000e+03],\n",
       "       [8.240000e+02, 9.100000e+02, 2.345612e+06, 1.090000e+03,\n",
       "        1.234000e+03],\n",
       "       [8.800000e+02, 9.000000e+02, 3.456123e+06, 1.010000e+03,\n",
       "        1.000000e+03],\n",
       "       [8.700000e+02, 9.900000e+02, 2.312123e+06, 1.001000e+03,\n",
       "        1.122000e+03],\n",
       "       [8.600000e+02, 9.800000e+02, 3.223123e+06, 1.008000e+03,\n",
       "        1.133000e+03],\n",
       "       [8.500000e+02, 9.700000e+02, 2.432123e+06, 1.100000e+03,\n",
       "        1.221000e+03]], dtype=float32)"
      ]
     },
     "execution_count": 3,
     "metadata": {},
     "output_type": "execute_result"
    }
   ],
   "source": [
    "data"
   ]
  },
  {
   "cell_type": "markdown",
   "metadata": {},
   "source": [
    "# Normalization 이전"
   ]
  },
  {
   "cell_type": "code",
   "execution_count": 6,
   "metadata": {},
   "outputs": [],
   "source": [
    "xdata = data[:,:-1]\n",
    "ydata = data[:,[-1]]"
   ]
  },
  {
   "cell_type": "code",
   "execution_count": 12,
   "metadata": {},
   "outputs": [
    {
     "data": {
      "text/plain": [
       "array([[1111.],\n",
       "       [1234.],\n",
       "       [1000.],\n",
       "       [1122.],\n",
       "       [1133.],\n",
       "       [1221.]], dtype=float32)"
      ]
     },
     "execution_count": 12,
     "metadata": {},
     "output_type": "execute_result"
    }
   ],
   "source": [
    "ydata"
   ]
  },
  {
   "cell_type": "code",
   "execution_count": 32,
   "metadata": {},
   "outputs": [],
   "source": [
    "x = tf.placeholder(tf.float32 , shape = [None,4])\n",
    "y = tf.constant(ydata , tf.float32)\n",
    "\n",
    "w = tf.Variable(tf.random_uniform([4,1]))\n",
    "b = tf.Variable(tf.random_uniform([1]))\n",
    "\n",
    "hx = tf.matmul(x,w) + b\n",
    "cost = tf.reduce_mean( tf.square(hx-y))\n",
    "\n",
    "optimizer = tf.train.GradientDescentOptimizer(0.0000000000001)\n",
    "train = optimizer.minimize(cost)\n",
    "sess = tf.Session()\n",
    "init = tf.global_variables_initializer() #############중요!!!!!!!!!!!!!!!!!!(variable값 초기화)\n",
    "sess.run(init)"
   ]
  },
  {
   "cell_type": "code",
   "execution_count": 37,
   "metadata": {},
   "outputs": [
    {
     "name": "stdout",
     "output_type": "stream",
     "text": [
      "0 10440.566\n",
      "100000 10440.566\n",
      "200000 10440.566\n",
      "300000 10440.566\n",
      "400000 10440.566\n",
      "500000 10440.566\n",
      "600000 10440.566\n",
      "700000 10440.566\n",
      "800000 10440.566\n",
      "900000 10440.566\n",
      "1000000 10440.566\n"
     ]
    }
   ],
   "source": [
    "for i in range(1000001):\n",
    "    sess.run(train,{x:xdata})\n",
    "    if i%100000 == 0 :\n",
    "        print(i,sess.run(cost,{x:xdata}))"
   ]
  },
  {
   "cell_type": "markdown",
   "metadata": {},
   "source": [
    "# Dataset 정규화\n",
    "## Normalization ((MIN && MAX Normalization))\n",
    "### xnew = (x-xmin) / (xmax - xmin)\n",
    "## Standardization\n",
    "### xnew = (x - mu)/sig"
   ]
  },
  {
   "cell_type": "code",
   "execution_count": 43,
   "metadata": {},
   "outputs": [],
   "source": [
    "scale = preprocessing.MinMaxScaler() ## MIN&&MAX Normalization\n",
    "dataN = scale.fit_transform(data)"
   ]
  },
  {
   "cell_type": "code",
   "execution_count": 44,
   "metadata": {},
   "outputs": [
    {
     "data": {
      "text/plain": [
       "array([[0.0714283 , 0.22222233, 0.        , 0.19191933, 0.47435904],\n",
       "       [0.        , 0.11111164, 0.50012016, 0.89899063, 1.0000005 ],\n",
       "       [1.        , 0.        , 1.        , 0.09090996, 0.        ],\n",
       "       [0.8214283 , 1.        , 0.48504567, 0.        , 0.52136755],\n",
       "       [0.6428566 , 0.8888893 , 0.8951186 , 0.07070732, 0.56837654],\n",
       "       [0.4642849 , 0.7777777 , 0.5390618 , 1.        , 0.94444466]],\n",
       "      dtype=float32)"
      ]
     },
     "execution_count": 44,
     "metadata": {},
     "output_type": "execute_result"
    }
   ],
   "source": [
    "dataN"
   ]
  },
  {
   "cell_type": "code",
   "execution_count": 53,
   "metadata": {},
   "outputs": [],
   "source": [
    "xdata = dataN[:,:-1]\n",
    "ydata = dataN[:,[-1]]"
   ]
  },
  {
   "cell_type": "code",
   "execution_count": 56,
   "metadata": {},
   "outputs": [],
   "source": [
    "x = tf.placeholder(tf.float32 , shape = [None,4])\n",
    "y = tf.constant(ydata , tf.float32)\n",
    "\n",
    "w = tf.Variable(tf.random_uniform([4,1]))\n",
    "b = tf.Variable(tf.random_uniform([1]))\n",
    "\n",
    "hx = tf.matmul(x,w) + b\n",
    "cost = tf.reduce_mean( tf.square(hx-y))\n",
    "\n",
    "optimizer = tf.train.GradientDescentOptimizer(0.01)\n",
    "train = optimizer.minimize(cost)\n",
    "sess = tf.Session()\n",
    "init = tf.global_variables_initializer() #############중요!!!!!!!!!!!!!!!!!!(variable값 초기화)\n",
    "sess.run(init)"
   ]
  },
  {
   "cell_type": "code",
   "execution_count": 59,
   "metadata": {},
   "outputs": [
    {
     "name": "stdout",
     "output_type": "stream",
     "text": [
      "0 0.0033238307\n",
      "10000 0.0033238307\n",
      "20000 0.0033238307\n",
      "30000 0.0033238307\n",
      "40000 0.0033238307\n",
      "50000 0.0033238307\n",
      "60000 0.0033238307\n",
      "70000 0.0033238307\n",
      "80000 0.0033238307\n",
      "90000 0.0033238307\n",
      "100000 0.0033238307\n"
     ]
    }
   ],
   "source": [
    "for i in range(100001):\n",
    "    sess.run(train,{x:xdata})\n",
    "    if i%10000 == 0 :\n",
    "        print(i,sess.run(cost,{x:xdata}))"
   ]
  },
  {
   "cell_type": "code",
   "execution_count": 60,
   "metadata": {},
   "outputs": [
    {
     "data": {
      "image/png": "[encoded data removed]",
      "text/plain": [
       "<Figure size 432x288 with 1 Axes>"
      ]
     },
     "metadata": {
      "needs_background": "light"
     },
     "output_type": "display_data"
    }
   ],
   "source": [
    "plt.plot(ydata)\n",
    "plt.plot(sess.run(hx,{x:xdata}),'r--')\n",
    "plt.show()"
   ]
  },
  {
   "cell_type": "markdown",
   "metadata": {},
   "source": [
    "# 데이터 넣을떄도 전처리 과정 필요함 (prediction 뽑을때)"
   ]
  },
  {
   "cell_type": "code",
   "execution_count": 61,
   "metadata": {},
   "outputs": [
    {
     "data": {
      "text/plain": [
       "array([[7.14281425e-02, 2.22222470e-01, 1.00739044e-08, 1.91919606e-01]])"
      ]
     },
     "execution_count": 61,
     "metadata": {},
     "output_type": "execute_result"
    }
   ],
   "source": [
    "arr = scale.transform([[828,920,1234567,1020,None]])\n",
    "arr[:,:-1]"
   ]
  },
  {
   "cell_type": "code",
   "execution_count": 63,
   "metadata": {},
   "outputs": [
    {
     "data": {
      "text/plain": [
       "0.525052011013031"
      ]
     },
     "execution_count": 63,
     "metadata": {},
     "output_type": "execute_result"
    }
   ],
   "source": [
    "float(sess.run(hx, {x:arr[:,:-1]}))"
   ]
  },
  {
   "cell_type": "markdown",
   "metadata": {},
   "source": [
    "### 역변환 실행 및 출력값 도출과정"
   ]
  },
  {
   "cell_type": "code",
   "execution_count": 68,
   "metadata": {},
   "outputs": [
    {
     "data": {
      "text/plain": [
       "1122.8621113377699"
      ]
     },
     "execution_count": 68,
     "metadata": {},
     "output_type": "execute_result"
    }
   ],
   "source": [
    "f = scale.inverse_transform([[None,None,None,None,float(sess.run(hx, {x:arr[:,:-1]}))]])\n",
    "\n",
    "f[:,[-1]]\n",
    "\n",
    "float(f[:,[-1]])"
   ]
  },
  {
   "cell_type": "markdown",
   "metadata": {},
   "source": [
    "# f = scale.inverse_transform의 input 형식에 None 포함 안할때 (input variable 숫자 많을때)"
   ]
  },
  {
   "cell_type": "code",
   "execution_count": 85,
   "metadata": {},
   "outputs": [
    {
     "data": {
      "text/plain": [
       "array([[0.47435904],\n",
       "       [1.0000005 ],\n",
       "       [0.        ],\n",
       "       [0.52136755],\n",
       "       [0.56837654],\n",
       "       [0.94444466]], dtype=float32)"
      ]
     },
     "execution_count": 85,
     "metadata": {},
     "output_type": "execute_result"
    }
   ],
   "source": [
    "labelScale = preprocessing.MinMaxScaler()\n",
    "y1 = labelScale.fit_transform(data[:,[-1]])\n",
    "y1"
   ]
  },
  {
   "cell_type": "code",
   "execution_count": 86,
   "metadata": {},
   "outputs": [
    {
     "data": {
      "text/plain": [
       "MinMaxScaler(copy=True, feature_range=(0, 1))"
      ]
     },
     "execution_count": 86,
     "metadata": {},
     "output_type": "execute_result"
    }
   ],
   "source": [
    "labelScale"
   ]
  },
  {
   "cell_type": "code",
   "execution_count": 88,
   "metadata": {},
   "outputs": [
    {
     "data": {
      "text/plain": [
       "array([[1123.01702611]])"
      ]
     },
     "execution_count": 88,
     "metadata": {},
     "output_type": "execute_result"
    }
   ],
   "source": [
    "labelScale.inverse_transform([[0.52571404]])"
   ]
  },
  {
   "cell_type": "code",
   "execution_count": null,
   "metadata": {},
   "outputs": [],
   "source": []
  }
 ],
 "metadata": {
  "kernelspec": {
   "display_name": "Python 3",
   "language": "python",
   "name": "python3"
  },
  "language_info": {
   "codemirror_mode": {
    "name": "ipython",
    "version": 3
   },
   "file_extension": ".py",
   "mimetype": "text/x-python",
   "name": "python",
   "nbconvert_exporter": "python",
   "pygments_lexer": "ipython3",
   "version": "3.7.6"
  }
 },
 "nbformat": 4,
 "nbformat_minor": 4
}
